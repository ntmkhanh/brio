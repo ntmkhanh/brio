{
  "nbformat": 4,
  "nbformat_minor": 0,
  "metadata": {
    "colab": {
      "provenance": []
    },
    "kernelspec": {
      "name": "python3",
      "display_name": "Python 3"
    },
    "language_info": {
      "name": "python"
    }
  },
  "cells": [
    {
      "cell_type": "code",
      "source": [
        "from google.colab import drive\n",
        "drive.mount('/content/drive')\n",
        "%cd /content/drive/MyDrive/LuanVan/BRIO"
      ],
      "metadata": {
        "colab": {
          "base_uri": "https://localhost:8080/"
        },
        "id": "X6Ev-ewIezez",
        "outputId": "1e88e7f3-9f49-4b30-8033-b398bd54ae2f"
      },
      "execution_count": null,
      "outputs": [
        {
          "output_type": "stream",
          "name": "stdout",
          "text": [
            "Drive already mounted at /content/drive; to attempt to forcibly remount, call drive.mount(\"/content/drive\", force_remount=True).\n",
            "/content/drive/MyDrive/LuanVan/BRIO\n"
          ]
        }
      ]
    },
    {
      "cell_type": "code",
      "execution_count": null,
      "metadata": {
        "colab": {
          "base_uri": "https://localhost:8080/"
        },
        "id": "h2noUplVQyV0",
        "outputId": "597fde0f-1223-4420-c721-71c8974ad054"
      },
      "outputs": [
        {
          "output_type": "stream",
          "name": "stdout",
          "text": [
            "1527\n",
            "                                                   text\n",
            "0     The teenage boy who fell from a cliff in Sydne...\n",
            "1     Ending energy poverty is central to my vision ...\n",
            "2     What a difference 90 minutes can make . Watfor...\n",
            "3     Film shows three men tying up blood-spattered ...\n",
            "4     By . Ian Birrell In Crimea . PUBLISHED : . 04:...\n",
            "...                                                 ...\n",
            "1522  -LRB- RealSimple.com -RRB- -- Tired of countin...\n",
            "1523  -LRB- CNN Student News -RRB- -- September 23 ,...\n",
            "1524  Suicide : Troll victim Hannah Smith , 14 , kil...\n",
            "1525  By . Victoria Woollaston and Mark Prigg . PUBL...\n",
            "1526  Under fire Australian Defence Minister David J...\n",
            "\n",
            "[1527 rows x 1 columns]\n"
          ]
        }
      ],
      "source": [
        "import pandas as pd\n",
        "import codecs\n",
        "import csv\n",
        "num_lines = sum(1 for line in open('./cnndm_new/cnndm_source_target/val.source','r', encoding='latin-1'))\n",
        "print(num_lines)\n",
        "doc = codecs.open('./cnndm_new/cnndm_source_target/val.source','r',encoding='latin-1')\n",
        "count=0\n",
        "doc_tmp=doc\n",
        "empty_index=[]\n",
        "for line in doc_tmp:\n",
        "  count=count+1\n",
        "  if line in ['\\n', '\\r\\n']:\n",
        "    print(\"yes \", count)\n",
        "    empty_index.append(count)\n",
        "text = pd.read_csv('./cnndm_new/cnndm_source_target/val.source',encoding='latin-1', sep=\"\\t\", header=None,quoting=csv.QUOTE_NONE )\n",
        "text.columns = [\"text\"]\n",
        "print(text)\n"
      ]
    },
    {
      "cell_type": "code",
      "source": [
        "doc1 = codecs.open('./cnndm_new/cnndm_source_target/test.target','r','utf-8')\n",
        "summary = pd.read_csv(doc1, sep=\"\\t\", header=None,quoting=csv.QUOTE_NONE,skiprows=empty_index)\n",
        "summary.columns = [\"summary\"]\n",
        "print(summary)"
      ],
      "metadata": {
        "id": "g-XOBx3HlvHl",
        "colab": {
          "base_uri": "https://localhost:8080/"
        },
        "outputId": "be2ca169-d1a0-4e1f-b172-3ddd2f93a26a"
      },
      "execution_count": null,
      "outputs": [
        {
          "output_type": "stream",
          "name": "stdout",
          "text": [
            "                                                 summary\n",
            "0      Satellite photos show how country has been aff...\n",
            "1      Jennifer Thompson , 52 , who has taught at Riv...\n",
            "2      Hawaiian Airlines again lands at No. 1 in on-t...\n",
            "3      Liverpool have received heavy criticism over t...\n",
            "4      Gary Locke will be confirmed as Kilmarnock bos...\n",
            "...                                                  ...\n",
            "12754  Fernando Alonso evades questions about Renault...\n",
            "12755  Lawyer Rodrigo Rosenberg shot dead while bicyc...\n",
            "12756  Kamran Ajaib , 27 , operated Hamza Poultry Lim...\n",
            "12757  New Zealanders will get to vote twice over the...\n",
            "12758  Daniel Sturridge has not played for Liverpool ...\n",
            "\n",
            "[12759 rows x 1 columns]\n"
          ]
        }
      ]
    },
    {
      "cell_type": "code",
      "source": [
        "test = pd.concat([text, summary], axis=1)\n",
        "print(test)"
      ],
      "metadata": {
        "colab": {
          "base_uri": "https://localhost:8080/"
        },
        "id": "JDXR08mMmWDt",
        "outputId": "d3ef10aa-5ae6-405e-e863-920795fc2e69"
      },
      "execution_count": null,
      "outputs": [
        {
          "output_type": "stream",
          "name": "stdout",
          "text": [
            "                                                    text  \\\n",
            "0      Revealing satellite images show how Syria has ...   \n",
            "1      Teacher Jennifer Thompson , 52 , failed to rep...   \n",
            "2      -LRB- CNN -RRB- -- If you travel by plane and ...   \n",
            "3      All week criticism has been raining down on th...   \n",
            "4      Gary Locke will be confirmed as Kilmarnock 's ...   \n",
            "...                                                  ...   \n",
            "12754  -LRB- CNN -RRB- -- Fernando Alonso refused to ...   \n",
            "12755  -LRB- CNN -RRB- -- Guatemalan President Alvaro...   \n",
            "12756  By . Mark Duell . PUBLISHED : . 05:25 EST , 11...   \n",
            "12757  Just like on Aussie soil it 's a debate that h...   \n",
            "12758  Daniel Sturridge will be treated by medical ex...   \n",
            "\n",
            "                                                 summary  \n",
            "0      Satellite photos show how country has been aff...  \n",
            "1      Jennifer Thompson , 52 , who has taught at Riv...  \n",
            "2      Hawaiian Airlines again lands at No. 1 in on-t...  \n",
            "3      Liverpool have received heavy criticism over t...  \n",
            "4      Gary Locke will be confirmed as Kilmarnock bos...  \n",
            "...                                                  ...  \n",
            "12754  Fernando Alonso evades questions about Renault...  \n",
            "12755  Lawyer Rodrigo Rosenberg shot dead while bicyc...  \n",
            "12756  Kamran Ajaib , 27 , operated Hamza Poultry Lim...  \n",
            "12757  New Zealanders will get to vote twice over the...  \n",
            "12758  Daniel Sturridge has not played for Liverpool ...  \n",
            "\n",
            "[12759 rows x 2 columns]\n"
          ]
        }
      ]
    },
    {
      "cell_type": "code",
      "source": [
        "test.to_csv('cnndm_new/cnndm_csv/test.csv', index=False)"
      ],
      "metadata": {
        "id": "Te23Gsc3nLnU"
      },
      "execution_count": null,
      "outputs": []
    }
  ]
}